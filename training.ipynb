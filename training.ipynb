{
 "cells": [
  {
   "cell_type": "code",
   "execution_count": 1,
   "metadata": {},
   "outputs": [
    {
     "name": "stdout",
     "output_type": "stream",
     "text": [
      "Enter the Roman Number : MLC\n",
      "1050\n"
     ]
    }
   ],
   "source": [
    "roman = input(\"Enter the Roman Number : \").upper()\n",
    "def list_sum(l):\n",
    "    s=0\n",
    "    for i in l:\n",
    "        s += i\n",
    "    return s\n",
    "\n",
    "roman_list = []    \n",
    "roman_dict = {'M':1000,'D':500,'C':100,'L':50,'X':10,'V':5,'I':1}\n",
    "\n",
    "for i in roman[::-1]:\n",
    "    roman_list.append(roman_dict[i])\n",
    "\n",
    "for i in range(len(roman_list)-1):\n",
    "    if (roman_list[i]<=roman_list[i+1]):\n",
    "        continue\n",
    "    else:\n",
    "        roman_list[i+1] = roman_list[i]-roman_list[i+1]\n",
    "        roman_list[i]=0\n",
    "        \n",
    "    \n",
    "#print(roman_list)\n",
    "print(list_sum(roman_list))"
   ]
  },
  {
   "cell_type": "code",
   "execution_count": 43,
   "metadata": {},
   "outputs": [],
   "source": [
    "import numpy as np\n",
    "grid = np.full((8,7),0,dtype=\"str\")"
   ]
  },
  {
   "cell_type": "code",
   "execution_count": 44,
   "metadata": {},
   "outputs": [],
   "source": [
    "for i in range(7):\n",
    "    grid[0,i]=i\n",
    "    grid[i+1,0]=i+1"
   ]
  },
  {
   "cell_type": "code",
   "execution_count": 45,
   "metadata": {},
   "outputs": [],
   "source": [
    "grid[0,0]=\".\""
   ]
  },
  {
   "cell_type": "code",
   "execution_count": 46,
   "metadata": {},
   "outputs": [
    {
     "data": {
      "text/plain": [
       "array([['.', '1', '2', '3', '4', '5', '6'],\n",
       "       ['1', '0', '0', '0', '0', '0', '0'],\n",
       "       ['2', '0', '0', '0', '0', '0', '0'],\n",
       "       ['3', '0', '0', '0', '0', '0', '0'],\n",
       "       ['4', '0', '0', '0', '0', '0', '0'],\n",
       "       ['5', '0', '0', '0', '0', '0', '0'],\n",
       "       ['6', '0', '0', '0', '0', '0', '0'],\n",
       "       ['7', '0', '0', '0', '0', '0', '0']], dtype='<U1')"
      ]
     },
     "execution_count": 46,
     "metadata": {},
     "output_type": "execute_result"
    }
   ],
   "source": [
    "grid"
   ]
  },
  {
   "cell_type": "code",
   "execution_count": 49,
   "metadata": {},
   "outputs": [],
   "source": [
    "for i in range(1,8):\n",
    "    for j in range(1,7):\n",
    "        if "
   ]
  },
  {
   "cell_type": "code",
   "execution_count": 50,
   "metadata": {},
   "outputs": [
    {
     "data": {
      "text/plain": [
       "array([['.', '1', '2', '3', '4', '5', '6'],\n",
       "       ['1', 'B', 'B', 'B', 'B', 'B', 'B'],\n",
       "       ['2', 'B', 'B', 'B', 'B', 'B', 'B'],\n",
       "       ['3', 'B', 'B', 'B', 'B', 'B', 'B'],\n",
       "       ['4', 'B', 'B', 'B', 'B', 'B', 'B'],\n",
       "       ['5', 'B', 'B', 'B', 'B', 'B', 'B'],\n",
       "       ['6', 'B', 'B', 'B', 'B', 'B', 'B'],\n",
       "       ['7', 'B', 'B', 'B', 'B', 'B', 'B']], dtype='<U1')"
      ]
     },
     "execution_count": 50,
     "metadata": {},
     "output_type": "execute_result"
    }
   ],
   "source": [
    "grid"
   ]
  },
  {
   "cell_type": "code",
   "execution_count": null,
   "metadata": {},
   "outputs": [],
   "source": [
    "import pandas as pd\n",
    "from sklearn.metrics import mean_absolute_error\n",
    "from sklearn.ensemble import RandomForestRegressor\n",
    "from sklearn.model_selection import train_test_split\n",
    "\n",
    "housing_data =  pd.read_csv(\"\")"
   ]
  }
 ],
 "metadata": {
  "kernelspec": {
   "display_name": "Python 3",
   "language": "python",
   "name": "python3"
  },
  "language_info": {
   "codemirror_mode": {
    "name": "ipython",
    "version": 3
   },
   "file_extension": ".py",
   "mimetype": "text/x-python",
   "name": "python",
   "nbconvert_exporter": "python",
   "pygments_lexer": "ipython3",
   "version": "3.7.4"
  }
 },
 "nbformat": 4,
 "nbformat_minor": 2
}
