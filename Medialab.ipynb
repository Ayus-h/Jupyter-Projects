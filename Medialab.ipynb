{
 "cells": [
  {
   "cell_type": "markdown",
   "metadata": {},
   "source": [
    "## Libraries"
   ]
  },
  {
   "cell_type": "code",
   "execution_count": 634,
   "metadata": {},
   "outputs": [],
   "source": [
    "import pandas as pd\n",
    "import numpy as np\n",
    "import matplotlib.pyplot as plt\n",
    "import seaborn as sns\n",
    "import matplotlib.dates as mpl_dates\n",
    "from sklearn.model_selection import train_test_split\n",
    "from sklearn.linear_model import LinearRegression\n",
    "from sklearn.ensemble import RandomForestRegressor\n",
    "from sklearn.metrics import mean_absolute_error\n",
    "import statsmodels.api as sm"
   ]
  },
  {
   "cell_type": "markdown",
   "metadata": {},
   "source": [
    "## Excel File into the variable 'data'"
   ]
  },
  {
   "cell_type": "code",
   "execution_count": 635,
   "metadata": {},
   "outputs": [],
   "source": [
    "data = pd.read_excel(\"Medialab Placement Data Science Test 2021 - external.xlsx\",sheet_name = None)"
   ]
  },
  {
   "cell_type": "markdown",
   "metadata": {},
   "source": [
    "## Checking Data Infos"
   ]
  },
  {
   "cell_type": "code",
   "execution_count": 636,
   "metadata": {},
   "outputs": [
    {
     "data": {
      "text/plain": [
       "odict_keys(['Brief', 'Dictionary', 'Calls', 'Quotes', 'Sales', 'Model Data'])"
      ]
     },
     "execution_count": 636,
     "metadata": {},
     "output_type": "execute_result"
    }
   ],
   "source": [
    "data.keys()"
   ]
  },
  {
   "cell_type": "code",
   "execution_count": 637,
   "metadata": {},
   "outputs": [
    {
     "name": "stdout",
     "output_type": "stream",
     "text": [
      "Brief\n",
      "Series([], dtype: object)\n",
      "\n",
      "Dictionary\n",
      "Unnamed: 0    float64\n",
      "Unnamed: 1     object\n",
      "Unnamed: 2     object\n",
      "dtype: object\n",
      "\n",
      "Calls\n",
      "Scheme      object\n",
      "Weekday     object\n",
      "Day          int64\n",
      "Month        int64\n",
      "Year         int64\n",
      "Calls      float64\n",
      "dtype: object\n",
      "\n",
      "Quotes\n",
      "Date            datetime64[ns]\n",
      "Scheme                  object\n",
      "Sales Quotes             int64\n",
      "Spend                  float64\n",
      "dtype: object\n",
      "\n",
      "Sales\n",
      "Date      datetime64[ns]\n",
      "Scheme            object\n",
      "Sales              int64\n",
      "dtype: object\n",
      "\n",
      "Model Data\n",
      "Date                           datetime64[ns]\n",
      "Conversions                           float64\n",
      "TV Brand Impacts                      float64\n",
      "TV Impacts                            float64\n",
      "Facebook Impressions                  float64\n",
      "Door Drop Volumes                     float64\n",
      "Insert Volumes                        float64\n",
      "Video On Demand Impressions           float64\n",
      "Display Impressions                   float64\n",
      "2020 Flag                               int64\n",
      "Bank Holiday flag                       int64\n",
      "Christmas Flag                          int64\n",
      "dtype: object\n",
      "\n"
     ]
    }
   ],
   "source": [
    "for d in data.keys():\n",
    "    #print(data[d].columns)\n",
    "    print(d)\n",
    "    print(data[d].dtypes)\n",
    "    print()"
   ]
  },
  {
   "cell_type": "markdown",
   "metadata": {},
   "source": [
    "# Section 1"
   ]
  },
  {
   "cell_type": "markdown",
   "metadata": {},
   "source": [
    "# Section 1a : On Calls, create a date columns"
   ]
  },
  {
   "cell_type": "code",
   "execution_count": 638,
   "metadata": {},
   "outputs": [
    {
     "name": "stdout",
     "output_type": "stream",
     "text": [
      "  Scheme Weekday  Day  Month  Year  Calls       Date\n",
      "0    CHD     Tue    2      1  2018    1.0 2018-01-02\n",
      "1    CHD     Tue    2      1  2018    1.0 2018-01-02\n",
      "2    PQU     Tue    2      1  2018    1.0 2018-01-02\n",
      "3    CHD     Tue    2      1  2018    1.0 2018-01-02\n",
      "4    CHD     Tue    2      1  2018    1.0 2018-01-02\n"
     ]
    },
    {
     "data": {
      "text/plain": [
       "Scheme             object\n",
       "Weekday            object\n",
       "Day                 int64\n",
       "Month               int64\n",
       "Year                int64\n",
       "Calls             float64\n",
       "Date       datetime64[ns]\n",
       "dtype: object"
      ]
     },
     "execution_count": 638,
     "metadata": {},
     "output_type": "execute_result"
    }
   ],
   "source": [
    "df_calls = data['Calls']\n",
    "df_calls[\"Date\"] = [f\"{a}-{b}-{c}\" for a,b,c in zip(df_calls[\"Day\"],df_calls[\"Month\"],df_calls[\"Year\"])]\n",
    "df_calls['Date'] = pd.to_datetime(df_calls['Date'], format='%d-%m-%Y')\n",
    "print(df_calls.head())\n",
    "df_calls.dtypes"
   ]
  },
  {
   "cell_type": "markdown",
   "metadata": {},
   "source": [
    "## Clearing Dictionary table:\n",
    "We can see that dictionary needs to be cleaned."
   ]
  },
  {
   "cell_type": "code",
   "execution_count": 639,
   "metadata": {},
   "outputs": [
    {
     "data": {
      "text/html": [
       "<div>\n",
       "<style scoped>\n",
       "    .dataframe tbody tr th:only-of-type {\n",
       "        vertical-align: middle;\n",
       "    }\n",
       "\n",
       "    .dataframe tbody tr th {\n",
       "        vertical-align: top;\n",
       "    }\n",
       "\n",
       "    .dataframe thead th {\n",
       "        text-align: right;\n",
       "    }\n",
       "</style>\n",
       "<table border=\"1\" class=\"dataframe\">\n",
       "  <thead>\n",
       "    <tr style=\"text-align: right;\">\n",
       "      <th></th>\n",
       "      <th>Unnamed: 0</th>\n",
       "      <th>Unnamed: 1</th>\n",
       "      <th>Unnamed: 2</th>\n",
       "    </tr>\n",
       "  </thead>\n",
       "  <tbody>\n",
       "    <tr>\n",
       "      <td>0</td>\n",
       "      <td>NaN</td>\n",
       "      <td>Channel</td>\n",
       "      <td>Short Code</td>\n",
       "    </tr>\n",
       "    <tr>\n",
       "      <td>1</td>\n",
       "      <td>NaN</td>\n",
       "      <td>Display</td>\n",
       "      <td>A92</td>\n",
       "    </tr>\n",
       "    <tr>\n",
       "      <td>2</td>\n",
       "      <td>NaN</td>\n",
       "      <td>NaN</td>\n",
       "      <td>A93</td>\n",
       "    </tr>\n",
       "    <tr>\n",
       "      <td>3</td>\n",
       "      <td>NaN</td>\n",
       "      <td>DM</td>\n",
       "      <td>A78</td>\n",
       "    </tr>\n",
       "    <tr>\n",
       "      <td>4</td>\n",
       "      <td>NaN</td>\n",
       "      <td>NaN</td>\n",
       "      <td>E01</td>\n",
       "    </tr>\n",
       "  </tbody>\n",
       "</table>\n",
       "</div>"
      ],
      "text/plain": [
       "   Unnamed: 0 Unnamed: 1  Unnamed: 2\n",
       "0         NaN    Channel  Short Code\n",
       "1         NaN    Display         A92\n",
       "2         NaN        NaN         A93\n",
       "3         NaN         DM         A78\n",
       "4         NaN        NaN         E01"
      ]
     },
     "execution_count": 639,
     "metadata": {},
     "output_type": "execute_result"
    }
   ],
   "source": [
    "data['Dictionary'].head()"
   ]
  },
  {
   "cell_type": "code",
   "execution_count": 640,
   "metadata": {},
   "outputs": [],
   "source": [
    "def clear_Dictionary():\n",
    "    df = data['Dictionary']\n",
    "    #df.columns = df.iloc[0]\n",
    "    df = df.rename(columns ={\"Unnamed: 0\":\"NaN\",\"Unnamed: 1\":\"Channel\",\"Unnamed: 2\":\"Scheme\"})\n",
    "    df = df.iloc[1:,1:]\n",
    "    df['Channel'] = df['Channel'].fillna(method = 'ffill')\n",
    "    df = df.reset_index(drop = True)\n",
    "    data['Dictionary'] = df\n",
    "clear_Dictionary()"
   ]
  },
  {
   "cell_type": "code",
   "execution_count": 641,
   "metadata": {},
   "outputs": [
    {
     "data": {
      "text/html": [
       "<div>\n",
       "<style scoped>\n",
       "    .dataframe tbody tr th:only-of-type {\n",
       "        vertical-align: middle;\n",
       "    }\n",
       "\n",
       "    .dataframe tbody tr th {\n",
       "        vertical-align: top;\n",
       "    }\n",
       "\n",
       "    .dataframe thead th {\n",
       "        text-align: right;\n",
       "    }\n",
       "</style>\n",
       "<table border=\"1\" class=\"dataframe\">\n",
       "  <thead>\n",
       "    <tr style=\"text-align: right;\">\n",
       "      <th></th>\n",
       "      <th>Channel</th>\n",
       "      <th>Scheme</th>\n",
       "    </tr>\n",
       "  </thead>\n",
       "  <tbody>\n",
       "    <tr>\n",
       "      <td>0</td>\n",
       "      <td>Display</td>\n",
       "      <td>A92</td>\n",
       "    </tr>\n",
       "    <tr>\n",
       "      <td>1</td>\n",
       "      <td>Display</td>\n",
       "      <td>A93</td>\n",
       "    </tr>\n",
       "    <tr>\n",
       "      <td>2</td>\n",
       "      <td>DM</td>\n",
       "      <td>A78</td>\n",
       "    </tr>\n",
       "    <tr>\n",
       "      <td>3</td>\n",
       "      <td>DM</td>\n",
       "      <td>E01</td>\n",
       "    </tr>\n",
       "    <tr>\n",
       "      <td>4</td>\n",
       "      <td>DM</td>\n",
       "      <td>E02</td>\n",
       "    </tr>\n",
       "  </tbody>\n",
       "</table>\n",
       "</div>"
      ],
      "text/plain": [
       "   Channel Scheme\n",
       "0  Display    A92\n",
       "1  Display    A93\n",
       "2       DM    A78\n",
       "3       DM    E01\n",
       "4       DM    E02"
      ]
     },
     "execution_count": 641,
     "metadata": {},
     "output_type": "execute_result"
    }
   ],
   "source": [
    "data['Dictionary'].head() #result"
   ]
  },
  {
   "cell_type": "markdown",
   "metadata": {},
   "source": [
    "## Checking for NAN in the data:"
   ]
  },
  {
   "cell_type": "code",
   "execution_count": 642,
   "metadata": {},
   "outputs": [],
   "source": [
    "def NA_check():\n",
    "    total_na_sheets = []\n",
    "    total_na = 0\n",
    "    total = 0\n",
    "    for k in data.keys():\n",
    "        if k == \"Brief\":\n",
    "            continue\n",
    "        #print(\"Info for %s\"%k)\n",
    "        df = data[k].isna().sum()\n",
    "        total_na += df.sum()\n",
    "        total_data_sheet = data[k].shape[0]* data[k].shape[1]\n",
    "        total_na_sheets.append([k,df.sum(),total_data_sheet])\n",
    "        df = df.reset_index()\n",
    "        df = df.rename(columns={0:\"isNa\"})\n",
    "        if df[\"isNa\"].sum() == 0:\n",
    "            continue\n",
    "        df[\"notNa\"] = data[k].shape[0] - df[\"isNa\"]\n",
    "        plot1 = plt.barh(df[\"index\"],df[\"isNa\"],color = \"r\")\n",
    "        #plt.barh(df[\"index\"],df[\"notNa\"],left = df[\"isNa\"], color = \"g\") #stacked barplot\n",
    "        #autolabel(plot1)\n",
    "        plt.legend([\"NA data\",\"Non-NA data\"])\n",
    "        plt.xticks(rotation = \"vertical\")\n",
    "        #plt.xlim(0,data[k].shape[0]) #uncomment if you want to see proportion of na data and non-na data\n",
    "        plt.title(k)\n",
    "        plt.show()\n",
    "        #print(df) #uncomment if you want to see dataframe of isna\n",
    "    print(\"Result:\")\n",
    "    print()\n",
    "    print(\"Total NA according to sheets: \")\n",
    "    for sheet,nacount,count in total_na_sheets:\n",
    "        total+=count\n",
    "        print(\"\\t%s: %d / %d\"%(sheet,nacount,count))\n",
    "    print()\n",
    "    print(\"Total NA: %d / %d\"%(total_na, total))"
   ]
  },
  {
   "cell_type": "code",
   "execution_count": 643,
   "metadata": {},
   "outputs": [
    {
     "data": {
      "image/png": "[encoded data removed]",
      "text/plain": [
       "<Figure size 432x288 with 1 Axes>"
      ]
     },
     "metadata": {
      "needs_background": "light"
     },
     "output_type": "display_data"
    },
    {
     "name": "stdout",
     "output_type": "stream",
     "text": [
      "Result:\n",
      "\n",
      "Total NA according to sheets: \n",
      "\tDictionary: 0 / 108\n",
      "\tCalls: 2 / 850129\n",
      "\tQuotes: 0 / 36992\n",
      "\tSales: 0 / 139329\n",
      "\tModel Data: 0 / 1872\n",
      "\n",
      "Total NA: 2 / 1028430\n"
     ]
    }
   ],
   "source": [
    "NA_check()"
   ]
  },
  {
   "cell_type": "code",
   "execution_count": 644,
   "metadata": {},
   "outputs": [
    {
     "data": {
      "text/html": [
       "<div>\n",
       "<style scoped>\n",
       "    .dataframe tbody tr th:only-of-type {\n",
       "        vertical-align: middle;\n",
       "    }\n",
       "\n",
       "    .dataframe tbody tr th {\n",
       "        vertical-align: top;\n",
       "    }\n",
       "\n",
       "    .dataframe thead th {\n",
       "        text-align: right;\n",
       "    }\n",
       "</style>\n",
       "<table border=\"1\" class=\"dataframe\">\n",
       "  <thead>\n",
       "    <tr style=\"text-align: right;\">\n",
       "      <th></th>\n",
       "      <th>Scheme</th>\n",
       "      <th>Weekday</th>\n",
       "      <th>Day</th>\n",
       "      <th>Month</th>\n",
       "      <th>Year</th>\n",
       "      <th>Calls</th>\n",
       "      <th>Date</th>\n",
       "    </tr>\n",
       "  </thead>\n",
       "  <tbody>\n",
       "    <tr>\n",
       "      <td>99586</td>\n",
       "      <td>A93</td>\n",
       "      <td>Wed</td>\n",
       "      <td>24</td>\n",
       "      <td>7</td>\n",
       "      <td>2019</td>\n",
       "      <td>NaN</td>\n",
       "      <td>2019-07-24</td>\n",
       "    </tr>\n",
       "    <tr>\n",
       "      <td>108018</td>\n",
       "      <td>A93</td>\n",
       "      <td>Mon</td>\n",
       "      <td>19</td>\n",
       "      <td>8</td>\n",
       "      <td>2019</td>\n",
       "      <td>NaN</td>\n",
       "      <td>2019-08-19</td>\n",
       "    </tr>\n",
       "  </tbody>\n",
       "</table>\n",
       "</div>"
      ],
      "text/plain": [
       "       Scheme Weekday  Day  Month  Year  Calls       Date\n",
       "99586     A93     Wed   24      7  2019    NaN 2019-07-24\n",
       "108018    A93     Mon   19      8  2019    NaN 2019-08-19"
      ]
     },
     "execution_count": 644,
     "metadata": {},
     "output_type": "execute_result"
    }
   ],
   "source": [
    "dfc = data[\"Calls\"]\n",
    "dfc[dfc[\"Calls\"].isna() == True]"
   ]
  },
  {
   "cell_type": "markdown",
   "metadata": {},
   "source": [
    "# Section 1b: Analysing the quality of data\n",
    "We can see that there are only 2 NaN datas. The rest of the data seems fine. So, the data quality seems to be good. \n",
    "Looking below, we can also see that all the datatypes seems to be reasonable. That means, the datatypes are very particular, objects only for Channel, Scheme, Weekday. The dates seem to be in datetime datatype. Rest are either integer or float. Overall, the data is cleaned and good for processing."
   ]
  },
  {
   "cell_type": "code",
   "execution_count": 645,
   "metadata": {},
   "outputs": [
    {
     "name": "stdout",
     "output_type": "stream",
     "text": [
      "Dictionary\n",
      "Channel    object\n",
      "Scheme     object\n",
      "dtype: object\n",
      "\n",
      "Calls\n",
      "Scheme             object\n",
      "Weekday            object\n",
      "Day                 int64\n",
      "Month               int64\n",
      "Year                int64\n",
      "Calls             float64\n",
      "Date       datetime64[ns]\n",
      "dtype: object\n",
      "\n",
      "Quotes\n",
      "Date            datetime64[ns]\n",
      "Scheme                  object\n",
      "Sales Quotes             int64\n",
      "Spend                  float64\n",
      "dtype: object\n",
      "\n",
      "Sales\n",
      "Date      datetime64[ns]\n",
      "Scheme            object\n",
      "Sales              int64\n",
      "dtype: object\n",
      "\n",
      "Model Data\n",
      "Date                           datetime64[ns]\n",
      "Conversions                           float64\n",
      "TV Brand Impacts                      float64\n",
      "TV Impacts                            float64\n",
      "Facebook Impressions                  float64\n",
      "Door Drop Volumes                     float64\n",
      "Insert Volumes                        float64\n",
      "Video On Demand Impressions           float64\n",
      "Display Impressions                   float64\n",
      "2020 Flag                               int64\n",
      "Bank Holiday flag                       int64\n",
      "Christmas Flag                          int64\n",
      "dtype: object\n",
      "\n"
     ]
    }
   ],
   "source": [
    "for k in data.keys():\n",
    "    if k  == \"Brief\":\n",
    "        continue\n",
    "    print(k)\n",
    "    print(data[k].dtypes)\n",
    "    print()"
   ]
  },
  {
   "cell_type": "markdown",
   "metadata": {},
   "source": [
    "# Section 1c : Grouping Sales, Quotes and Calls tables into one table"
   ]
  },
  {
   "cell_type": "code",
   "execution_count": 646,
   "metadata": {},
   "outputs": [
    {
     "data": {
      "text/html": [
       "<div>\n",
       "<style scoped>\n",
       "    .dataframe tbody tr th:only-of-type {\n",
       "        vertical-align: middle;\n",
       "    }\n",
       "\n",
       "    .dataframe tbody tr th {\n",
       "        vertical-align: top;\n",
       "    }\n",
       "\n",
       "    .dataframe thead th {\n",
       "        text-align: right;\n",
       "    }\n",
       "</style>\n",
       "<table border=\"1\" class=\"dataframe\">\n",
       "  <thead>\n",
       "    <tr style=\"text-align: right;\">\n",
       "      <th></th>\n",
       "      <th>Date</th>\n",
       "      <th>Scheme</th>\n",
       "      <th>Sales</th>\n",
       "      <th>Sales Quotes</th>\n",
       "      <th>Spend</th>\n",
       "      <th>Weekday</th>\n",
       "      <th>Day</th>\n",
       "      <th>Month</th>\n",
       "      <th>Year</th>\n",
       "      <th>Calls</th>\n",
       "    </tr>\n",
       "  </thead>\n",
       "  <tbody>\n",
       "    <tr>\n",
       "      <td>0</td>\n",
       "      <td>2018-01-02</td>\n",
       "      <td>CHD</td>\n",
       "      <td>1.0</td>\n",
       "      <td>NaN</td>\n",
       "      <td>NaN</td>\n",
       "      <td>Tue</td>\n",
       "      <td>2.0</td>\n",
       "      <td>1.0</td>\n",
       "      <td>2018.0</td>\n",
       "      <td>1.0</td>\n",
       "    </tr>\n",
       "    <tr>\n",
       "      <td>1</td>\n",
       "      <td>2018-01-02</td>\n",
       "      <td>CHD</td>\n",
       "      <td>1.0</td>\n",
       "      <td>NaN</td>\n",
       "      <td>NaN</td>\n",
       "      <td>Tue</td>\n",
       "      <td>2.0</td>\n",
       "      <td>1.0</td>\n",
       "      <td>2018.0</td>\n",
       "      <td>1.0</td>\n",
       "    </tr>\n",
       "    <tr>\n",
       "      <td>2</td>\n",
       "      <td>2018-01-02</td>\n",
       "      <td>CHD</td>\n",
       "      <td>1.0</td>\n",
       "      <td>NaN</td>\n",
       "      <td>NaN</td>\n",
       "      <td>Tue</td>\n",
       "      <td>2.0</td>\n",
       "      <td>1.0</td>\n",
       "      <td>2018.0</td>\n",
       "      <td>1.0</td>\n",
       "    </tr>\n",
       "    <tr>\n",
       "      <td>3</td>\n",
       "      <td>2018-01-02</td>\n",
       "      <td>CHD</td>\n",
       "      <td>1.0</td>\n",
       "      <td>NaN</td>\n",
       "      <td>NaN</td>\n",
       "      <td>Tue</td>\n",
       "      <td>2.0</td>\n",
       "      <td>1.0</td>\n",
       "      <td>2018.0</td>\n",
       "      <td>1.0</td>\n",
       "    </tr>\n",
       "    <tr>\n",
       "      <td>4</td>\n",
       "      <td>2018-01-02</td>\n",
       "      <td>CHD</td>\n",
       "      <td>1.0</td>\n",
       "      <td>NaN</td>\n",
       "      <td>NaN</td>\n",
       "      <td>Tue</td>\n",
       "      <td>2.0</td>\n",
       "      <td>1.0</td>\n",
       "      <td>2018.0</td>\n",
       "      <td>1.0</td>\n",
       "    </tr>\n",
       "    <tr>\n",
       "      <td>...</td>\n",
       "      <td>...</td>\n",
       "      <td>...</td>\n",
       "      <td>...</td>\n",
       "      <td>...</td>\n",
       "      <td>...</td>\n",
       "      <td>...</td>\n",
       "      <td>...</td>\n",
       "      <td>...</td>\n",
       "      <td>...</td>\n",
       "      <td>...</td>\n",
       "    </tr>\n",
       "    <tr>\n",
       "      <td>2800796</td>\n",
       "      <td>2019-10-10</td>\n",
       "      <td>U04</td>\n",
       "      <td>NaN</td>\n",
       "      <td>NaN</td>\n",
       "      <td>NaN</td>\n",
       "      <td>Thu</td>\n",
       "      <td>10.0</td>\n",
       "      <td>10.0</td>\n",
       "      <td>2019.0</td>\n",
       "      <td>1.0</td>\n",
       "    </tr>\n",
       "    <tr>\n",
       "      <td>2800797</td>\n",
       "      <td>2019-10-10</td>\n",
       "      <td>NBJ</td>\n",
       "      <td>NaN</td>\n",
       "      <td>NaN</td>\n",
       "      <td>NaN</td>\n",
       "      <td>Thu</td>\n",
       "      <td>10.0</td>\n",
       "      <td>10.0</td>\n",
       "      <td>2019.0</td>\n",
       "      <td>1.0</td>\n",
       "    </tr>\n",
       "    <tr>\n",
       "      <td>2800798</td>\n",
       "      <td>2019-10-10</td>\n",
       "      <td>A93</td>\n",
       "      <td>NaN</td>\n",
       "      <td>NaN</td>\n",
       "      <td>NaN</td>\n",
       "      <td>Thu</td>\n",
       "      <td>10.0</td>\n",
       "      <td>10.0</td>\n",
       "      <td>2019.0</td>\n",
       "      <td>1.0</td>\n",
       "    </tr>\n",
       "    <tr>\n",
       "      <td>2800799</td>\n",
       "      <td>2019-10-10</td>\n",
       "      <td>SFF</td>\n",
       "      <td>NaN</td>\n",
       "      <td>NaN</td>\n",
       "      <td>NaN</td>\n",
       "      <td>Thu</td>\n",
       "      <td>10.0</td>\n",
       "      <td>10.0</td>\n",
       "      <td>2019.0</td>\n",
       "      <td>1.0</td>\n",
       "    </tr>\n",
       "    <tr>\n",
       "      <td>2800800</td>\n",
       "      <td>2019-10-10</td>\n",
       "      <td>TGG</td>\n",
       "      <td>NaN</td>\n",
       "      <td>NaN</td>\n",
       "      <td>NaN</td>\n",
       "      <td>Thu</td>\n",
       "      <td>10.0</td>\n",
       "      <td>10.0</td>\n",
       "      <td>2019.0</td>\n",
       "      <td>1.0</td>\n",
       "    </tr>\n",
       "  </tbody>\n",
       "</table>\n",
       "<p>2800801 rows × 10 columns</p>\n",
       "</div>"
      ],
      "text/plain": [
       "              Date Scheme  Sales  Sales Quotes  Spend Weekday   Day  Month  \\\n",
       "0       2018-01-02    CHD    1.0           NaN    NaN     Tue   2.0    1.0   \n",
       "1       2018-01-02    CHD    1.0           NaN    NaN     Tue   2.0    1.0   \n",
       "2       2018-01-02    CHD    1.0           NaN    NaN     Tue   2.0    1.0   \n",
       "3       2018-01-02    CHD    1.0           NaN    NaN     Tue   2.0    1.0   \n",
       "4       2018-01-02    CHD    1.0           NaN    NaN     Tue   2.0    1.0   \n",
       "...            ...    ...    ...           ...    ...     ...   ...    ...   \n",
       "2800796 2019-10-10    U04    NaN           NaN    NaN     Thu  10.0   10.0   \n",
       "2800797 2019-10-10    NBJ    NaN           NaN    NaN     Thu  10.0   10.0   \n",
       "2800798 2019-10-10    A93    NaN           NaN    NaN     Thu  10.0   10.0   \n",
       "2800799 2019-10-10    SFF    NaN           NaN    NaN     Thu  10.0   10.0   \n",
       "2800800 2019-10-10    TGG    NaN           NaN    NaN     Thu  10.0   10.0   \n",
       "\n",
       "           Year  Calls  \n",
       "0        2018.0    1.0  \n",
       "1        2018.0    1.0  \n",
       "2        2018.0    1.0  \n",
       "3        2018.0    1.0  \n",
       "4        2018.0    1.0  \n",
       "...         ...    ...  \n",
       "2800796  2019.0    1.0  \n",
       "2800797  2019.0    1.0  \n",
       "2800798  2019.0    1.0  \n",
       "2800799  2019.0    1.0  \n",
       "2800800  2019.0    1.0  \n",
       "\n",
       "[2800801 rows x 10 columns]"
      ]
     },
     "execution_count": 646,
     "metadata": {},
     "output_type": "execute_result"
    }
   ],
   "source": [
    "first_outer_join = pd.merge(data['Sales'],data['Quotes'], on=('Date','Scheme'), how=\"outer\")\n",
    "outer_join = pd.merge(first_outer_join,data['Calls'], on=['Date','Scheme'], how=\"outer\")\n",
    "outer_join\n"
   ]
  },
  {
   "cell_type": "markdown",
   "metadata": {},
   "source": [
    "# Section 1d : Creating Channel Column usinf Scheme code and dictionary"
   ]
  },
  {
   "cell_type": "code",
   "execution_count": 647,
   "metadata": {},
   "outputs": [
    {
     "data": {
      "text/html": [
       "<div>\n",
       "<style scoped>\n",
       "    .dataframe tbody tr th:only-of-type {\n",
       "        vertical-align: middle;\n",
       "    }\n",
       "\n",
       "    .dataframe tbody tr th {\n",
       "        vertical-align: top;\n",
       "    }\n",
       "\n",
       "    .dataframe thead th {\n",
       "        text-align: right;\n",
       "    }\n",
       "</style>\n",
       "<table border=\"1\" class=\"dataframe\">\n",
       "  <thead>\n",
       "    <tr style=\"text-align: right;\">\n",
       "      <th></th>\n",
       "      <th>Date</th>\n",
       "      <th>Scheme</th>\n",
       "      <th>Sales</th>\n",
       "      <th>Sales Quotes</th>\n",
       "      <th>Spend</th>\n",
       "      <th>Weekday</th>\n",
       "      <th>Day</th>\n",
       "      <th>Month</th>\n",
       "      <th>Year</th>\n",
       "      <th>Calls</th>\n",
       "      <th>Channel</th>\n",
       "    </tr>\n",
       "  </thead>\n",
       "  <tbody>\n",
       "    <tr>\n",
       "      <td>0</td>\n",
       "      <td>2018-01-02</td>\n",
       "      <td>CHD</td>\n",
       "      <td>1.0</td>\n",
       "      <td>NaN</td>\n",
       "      <td>NaN</td>\n",
       "      <td>Tue</td>\n",
       "      <td>2.0</td>\n",
       "      <td>1.0</td>\n",
       "      <td>2018.0</td>\n",
       "      <td>1.0</td>\n",
       "      <td>Website</td>\n",
       "    </tr>\n",
       "    <tr>\n",
       "      <td>1</td>\n",
       "      <td>2018-01-02</td>\n",
       "      <td>CHD</td>\n",
       "      <td>1.0</td>\n",
       "      <td>NaN</td>\n",
       "      <td>NaN</td>\n",
       "      <td>Tue</td>\n",
       "      <td>2.0</td>\n",
       "      <td>1.0</td>\n",
       "      <td>2018.0</td>\n",
       "      <td>1.0</td>\n",
       "      <td>Website</td>\n",
       "    </tr>\n",
       "    <tr>\n",
       "      <td>2</td>\n",
       "      <td>2018-01-02</td>\n",
       "      <td>CHD</td>\n",
       "      <td>1.0</td>\n",
       "      <td>NaN</td>\n",
       "      <td>NaN</td>\n",
       "      <td>Tue</td>\n",
       "      <td>2.0</td>\n",
       "      <td>1.0</td>\n",
       "      <td>2018.0</td>\n",
       "      <td>1.0</td>\n",
       "      <td>Website</td>\n",
       "    </tr>\n",
       "    <tr>\n",
       "      <td>3</td>\n",
       "      <td>2018-01-02</td>\n",
       "      <td>CHD</td>\n",
       "      <td>1.0</td>\n",
       "      <td>NaN</td>\n",
       "      <td>NaN</td>\n",
       "      <td>Tue</td>\n",
       "      <td>2.0</td>\n",
       "      <td>1.0</td>\n",
       "      <td>2018.0</td>\n",
       "      <td>1.0</td>\n",
       "      <td>Website</td>\n",
       "    </tr>\n",
       "    <tr>\n",
       "      <td>4</td>\n",
       "      <td>2018-01-02</td>\n",
       "      <td>CHD</td>\n",
       "      <td>1.0</td>\n",
       "      <td>NaN</td>\n",
       "      <td>NaN</td>\n",
       "      <td>Tue</td>\n",
       "      <td>2.0</td>\n",
       "      <td>1.0</td>\n",
       "      <td>2018.0</td>\n",
       "      <td>1.0</td>\n",
       "      <td>Website</td>\n",
       "    </tr>\n",
       "    <tr>\n",
       "      <td>...</td>\n",
       "      <td>...</td>\n",
       "      <td>...</td>\n",
       "      <td>...</td>\n",
       "      <td>...</td>\n",
       "      <td>...</td>\n",
       "      <td>...</td>\n",
       "      <td>...</td>\n",
       "      <td>...</td>\n",
       "      <td>...</td>\n",
       "      <td>...</td>\n",
       "      <td>...</td>\n",
       "    </tr>\n",
       "    <tr>\n",
       "      <td>2800796</td>\n",
       "      <td>2019-08-22</td>\n",
       "      <td>E45</td>\n",
       "      <td>NaN</td>\n",
       "      <td>NaN</td>\n",
       "      <td>NaN</td>\n",
       "      <td>Thu</td>\n",
       "      <td>22.0</td>\n",
       "      <td>8.0</td>\n",
       "      <td>2019.0</td>\n",
       "      <td>1.0</td>\n",
       "      <td>Inserts</td>\n",
       "    </tr>\n",
       "    <tr>\n",
       "      <td>2800797</td>\n",
       "      <td>2019-08-26</td>\n",
       "      <td>E45</td>\n",
       "      <td>NaN</td>\n",
       "      <td>NaN</td>\n",
       "      <td>NaN</td>\n",
       "      <td>Mon</td>\n",
       "      <td>26.0</td>\n",
       "      <td>8.0</td>\n",
       "      <td>2019.0</td>\n",
       "      <td>1.0</td>\n",
       "      <td>Inserts</td>\n",
       "    </tr>\n",
       "    <tr>\n",
       "      <td>2800798</td>\n",
       "      <td>2019-08-27</td>\n",
       "      <td>E45</td>\n",
       "      <td>NaN</td>\n",
       "      <td>NaN</td>\n",
       "      <td>NaN</td>\n",
       "      <td>Tue</td>\n",
       "      <td>27.0</td>\n",
       "      <td>8.0</td>\n",
       "      <td>2019.0</td>\n",
       "      <td>1.0</td>\n",
       "      <td>Inserts</td>\n",
       "    </tr>\n",
       "    <tr>\n",
       "      <td>2800799</td>\n",
       "      <td>2019-08-28</td>\n",
       "      <td>E45</td>\n",
       "      <td>NaN</td>\n",
       "      <td>NaN</td>\n",
       "      <td>NaN</td>\n",
       "      <td>Wed</td>\n",
       "      <td>28.0</td>\n",
       "      <td>8.0</td>\n",
       "      <td>2019.0</td>\n",
       "      <td>1.0</td>\n",
       "      <td>Inserts</td>\n",
       "    </tr>\n",
       "    <tr>\n",
       "      <td>2800800</td>\n",
       "      <td>2019-09-05</td>\n",
       "      <td>E45</td>\n",
       "      <td>NaN</td>\n",
       "      <td>NaN</td>\n",
       "      <td>NaN</td>\n",
       "      <td>Thu</td>\n",
       "      <td>5.0</td>\n",
       "      <td>9.0</td>\n",
       "      <td>2019.0</td>\n",
       "      <td>1.0</td>\n",
       "      <td>Inserts</td>\n",
       "    </tr>\n",
       "  </tbody>\n",
       "</table>\n",
       "<p>2800801 rows × 11 columns</p>\n",
       "</div>"
      ],
      "text/plain": [
       "              Date Scheme  Sales  Sales Quotes  Spend Weekday   Day  Month  \\\n",
       "0       2018-01-02    CHD    1.0           NaN    NaN     Tue   2.0    1.0   \n",
       "1       2018-01-02    CHD    1.0           NaN    NaN     Tue   2.0    1.0   \n",
       "2       2018-01-02    CHD    1.0           NaN    NaN     Tue   2.0    1.0   \n",
       "3       2018-01-02    CHD    1.0           NaN    NaN     Tue   2.0    1.0   \n",
       "4       2018-01-02    CHD    1.0           NaN    NaN     Tue   2.0    1.0   \n",
       "...            ...    ...    ...           ...    ...     ...   ...    ...   \n",
       "2800796 2019-08-22    E45    NaN           NaN    NaN     Thu  22.0    8.0   \n",
       "2800797 2019-08-26    E45    NaN           NaN    NaN     Mon  26.0    8.0   \n",
       "2800798 2019-08-27    E45    NaN           NaN    NaN     Tue  27.0    8.0   \n",
       "2800799 2019-08-28    E45    NaN           NaN    NaN     Wed  28.0    8.0   \n",
       "2800800 2019-09-05    E45    NaN           NaN    NaN     Thu   5.0    9.0   \n",
       "\n",
       "           Year  Calls  Channel  \n",
       "0        2018.0    1.0  Website  \n",
       "1        2018.0    1.0  Website  \n",
       "2        2018.0    1.0  Website  \n",
       "3        2018.0    1.0  Website  \n",
       "4        2018.0    1.0  Website  \n",
       "...         ...    ...      ...  \n",
       "2800796  2019.0    1.0  Inserts  \n",
       "2800797  2019.0    1.0  Inserts  \n",
       "2800798  2019.0    1.0  Inserts  \n",
       "2800799  2019.0    1.0  Inserts  \n",
       "2800800  2019.0    1.0  Inserts  \n",
       "\n",
       "[2800801 rows x 11 columns]"
      ]
     },
     "execution_count": 647,
     "metadata": {},
     "output_type": "execute_result"
    }
   ],
   "source": [
    "channel_join = pd.merge(outer_join,data['Dictionary'], on='Scheme', how=\"outer\")\n",
    "channel_join"
   ]
  },
  {
   "cell_type": "code",
   "execution_count": 648,
   "metadata": {},
   "outputs": [
    {
     "data": {
      "text/plain": [
       "Date                  0\n",
       "Scheme                0\n",
       "Sales             23746\n",
       "Sales Quotes    1411258\n",
       "Spend           1411258\n",
       "Weekday             929\n",
       "Day                 929\n",
       "Month               929\n",
       "Year                929\n",
       "Calls               931\n",
       "Channel               0\n",
       "dtype: int64"
      ]
     },
     "execution_count": 648,
     "metadata": {},
     "output_type": "execute_result"
    }
   ],
   "source": [
    "channel_join.isna().sum()"
   ]
  },
  {
   "cell_type": "code",
   "execution_count": 649,
   "metadata": {},
   "outputs": [
    {
     "data": {
      "text/html": [
       "<div>\n",
       "<style scoped>\n",
       "    .dataframe tbody tr th:only-of-type {\n",
       "        vertical-align: middle;\n",
       "    }\n",
       "\n",
       "    .dataframe tbody tr th {\n",
       "        vertical-align: top;\n",
       "    }\n",
       "\n",
       "    .dataframe thead th {\n",
       "        text-align: right;\n",
       "    }\n",
       "</style>\n",
       "<table border=\"1\" class=\"dataframe\">\n",
       "  <thead>\n",
       "    <tr style=\"text-align: right;\">\n",
       "      <th></th>\n",
       "      <th>Date</th>\n",
       "      <th>Scheme</th>\n",
       "      <th>Sales</th>\n",
       "      <th>Sales Quotes</th>\n",
       "      <th>Spend</th>\n",
       "      <th>Weekday</th>\n",
       "      <th>Day</th>\n",
       "      <th>Month</th>\n",
       "      <th>Year</th>\n",
       "      <th>Calls</th>\n",
       "      <th>Channel</th>\n",
       "    </tr>\n",
       "  </thead>\n",
       "  <tbody>\n",
       "    <tr>\n",
       "      <td>1785859</td>\n",
       "      <td>2018-01-16</td>\n",
       "      <td>DSS</td>\n",
       "      <td>1.0</td>\n",
       "      <td>NaN</td>\n",
       "      <td>NaN</td>\n",
       "      <td>NaN</td>\n",
       "      <td>NaN</td>\n",
       "      <td>NaN</td>\n",
       "      <td>NaN</td>\n",
       "      <td>NaN</td>\n",
       "      <td>Renewal Comms</td>\n",
       "    </tr>\n",
       "    <tr>\n",
       "      <td>1785989</td>\n",
       "      <td>2018-02-13</td>\n",
       "      <td>DSS</td>\n",
       "      <td>1.0</td>\n",
       "      <td>NaN</td>\n",
       "      <td>NaN</td>\n",
       "      <td>NaN</td>\n",
       "      <td>NaN</td>\n",
       "      <td>NaN</td>\n",
       "      <td>NaN</td>\n",
       "      <td>NaN</td>\n",
       "      <td>Renewal Comms</td>\n",
       "    </tr>\n",
       "    <tr>\n",
       "      <td>1785990</td>\n",
       "      <td>2018-02-13</td>\n",
       "      <td>DSS</td>\n",
       "      <td>1.0</td>\n",
       "      <td>NaN</td>\n",
       "      <td>NaN</td>\n",
       "      <td>NaN</td>\n",
       "      <td>NaN</td>\n",
       "      <td>NaN</td>\n",
       "      <td>NaN</td>\n",
       "      <td>NaN</td>\n",
       "      <td>Renewal Comms</td>\n",
       "    </tr>\n",
       "    <tr>\n",
       "      <td>1786032</td>\n",
       "      <td>2018-03-19</td>\n",
       "      <td>DSS</td>\n",
       "      <td>1.0</td>\n",
       "      <td>NaN</td>\n",
       "      <td>NaN</td>\n",
       "      <td>NaN</td>\n",
       "      <td>NaN</td>\n",
       "      <td>NaN</td>\n",
       "      <td>NaN</td>\n",
       "      <td>NaN</td>\n",
       "      <td>Renewal Comms</td>\n",
       "    </tr>\n",
       "    <tr>\n",
       "      <td>1786033</td>\n",
       "      <td>2018-03-19</td>\n",
       "      <td>DSS</td>\n",
       "      <td>1.0</td>\n",
       "      <td>NaN</td>\n",
       "      <td>NaN</td>\n",
       "      <td>NaN</td>\n",
       "      <td>NaN</td>\n",
       "      <td>NaN</td>\n",
       "      <td>NaN</td>\n",
       "      <td>NaN</td>\n",
       "      <td>Renewal Comms</td>\n",
       "    </tr>\n",
       "    <tr>\n",
       "      <td>...</td>\n",
       "      <td>...</td>\n",
       "      <td>...</td>\n",
       "      <td>...</td>\n",
       "      <td>...</td>\n",
       "      <td>...</td>\n",
       "      <td>...</td>\n",
       "      <td>...</td>\n",
       "      <td>...</td>\n",
       "      <td>...</td>\n",
       "      <td>...</td>\n",
       "      <td>...</td>\n",
       "    </tr>\n",
       "    <tr>\n",
       "      <td>2800752</td>\n",
       "      <td>2019-08-12</td>\n",
       "      <td>U2U</td>\n",
       "      <td>NaN</td>\n",
       "      <td>1.0</td>\n",
       "      <td>142.8115</td>\n",
       "      <td>NaN</td>\n",
       "      <td>NaN</td>\n",
       "      <td>NaN</td>\n",
       "      <td>NaN</td>\n",
       "      <td>NaN</td>\n",
       "      <td>Renewal Comms</td>\n",
       "    </tr>\n",
       "    <tr>\n",
       "      <td>2800753</td>\n",
       "      <td>2019-08-15</td>\n",
       "      <td>U2U</td>\n",
       "      <td>NaN</td>\n",
       "      <td>1.0</td>\n",
       "      <td>511.4163</td>\n",
       "      <td>NaN</td>\n",
       "      <td>NaN</td>\n",
       "      <td>NaN</td>\n",
       "      <td>NaN</td>\n",
       "      <td>NaN</td>\n",
       "      <td>Renewal Comms</td>\n",
       "    </tr>\n",
       "    <tr>\n",
       "      <td>2800756</td>\n",
       "      <td>2019-04-29</td>\n",
       "      <td>SQF</td>\n",
       "      <td>NaN</td>\n",
       "      <td>1.0</td>\n",
       "      <td>178.3080</td>\n",
       "      <td>NaN</td>\n",
       "      <td>NaN</td>\n",
       "      <td>NaN</td>\n",
       "      <td>NaN</td>\n",
       "      <td>NaN</td>\n",
       "      <td>Renewal Comms</td>\n",
       "    </tr>\n",
       "    <tr>\n",
       "      <td>2800761</td>\n",
       "      <td>2019-08-05</td>\n",
       "      <td>E46</td>\n",
       "      <td>NaN</td>\n",
       "      <td>1.0</td>\n",
       "      <td>51.7779</td>\n",
       "      <td>NaN</td>\n",
       "      <td>NaN</td>\n",
       "      <td>NaN</td>\n",
       "      <td>NaN</td>\n",
       "      <td>NaN</td>\n",
       "      <td>Inserts</td>\n",
       "    </tr>\n",
       "    <tr>\n",
       "      <td>2800777</td>\n",
       "      <td>2019-08-18</td>\n",
       "      <td>E42</td>\n",
       "      <td>NaN</td>\n",
       "      <td>1.0</td>\n",
       "      <td>420.3700</td>\n",
       "      <td>NaN</td>\n",
       "      <td>NaN</td>\n",
       "      <td>NaN</td>\n",
       "      <td>NaN</td>\n",
       "      <td>NaN</td>\n",
       "      <td>Inserts</td>\n",
       "    </tr>\n",
       "  </tbody>\n",
       "</table>\n",
       "<p>929 rows × 11 columns</p>\n",
       "</div>"
      ],
      "text/plain": [
       "              Date Scheme  Sales  Sales Quotes     Spend Weekday  Day  Month  \\\n",
       "1785859 2018-01-16    DSS    1.0           NaN       NaN     NaN  NaN    NaN   \n",
       "1785989 2018-02-13    DSS    1.0           NaN       NaN     NaN  NaN    NaN   \n",
       "1785990 2018-02-13    DSS    1.0           NaN       NaN     NaN  NaN    NaN   \n",
       "1786032 2018-03-19    DSS    1.0           NaN       NaN     NaN  NaN    NaN   \n",
       "1786033 2018-03-19    DSS    1.0           NaN       NaN     NaN  NaN    NaN   \n",
       "...            ...    ...    ...           ...       ...     ...  ...    ...   \n",
       "2800752 2019-08-12    U2U    NaN           1.0  142.8115     NaN  NaN    NaN   \n",
       "2800753 2019-08-15    U2U    NaN           1.0  511.4163     NaN  NaN    NaN   \n",
       "2800756 2019-04-29    SQF    NaN           1.0  178.3080     NaN  NaN    NaN   \n",
       "2800761 2019-08-05    E46    NaN           1.0   51.7779     NaN  NaN    NaN   \n",
       "2800777 2019-08-18    E42    NaN           1.0  420.3700     NaN  NaN    NaN   \n",
       "\n",
       "         Year  Calls        Channel  \n",
       "1785859   NaN    NaN  Renewal Comms  \n",
       "1785989   NaN    NaN  Renewal Comms  \n",
       "1785990   NaN    NaN  Renewal Comms  \n",
       "1786032   NaN    NaN  Renewal Comms  \n",
       "1786033   NaN    NaN  Renewal Comms  \n",
       "...       ...    ...            ...  \n",
       "2800752   NaN    NaN  Renewal Comms  \n",
       "2800753   NaN    NaN  Renewal Comms  \n",
       "2800756   NaN    NaN  Renewal Comms  \n",
       "2800761   NaN    NaN        Inserts  \n",
       "2800777   NaN    NaN        Inserts  \n",
       "\n",
       "[929 rows x 11 columns]"
      ]
     },
     "execution_count": 649,
     "metadata": {},
     "output_type": "execute_result"
    }
   ],
   "source": [
    "channel_join[channel_join['Weekday'].isna() == True]\n",
    "#len(channel_join['Channel'].unique())"
   ]
  },
  {
   "cell_type": "markdown",
   "metadata": {},
   "source": [
    "## Analysis\n",
    "Looking at the massive amounts of NaNs, we can see that its bad. But since, we are joining the tables, we can only do outer join to stop losing any data."
   ]
  },
  {
   "cell_type": "markdown",
   "metadata": {},
   "source": [
    "# Section 1e : The Avg quotes to Websites in 2018 and 2019"
   ]
  },
  {
   "cell_type": "code",
   "execution_count": 650,
   "metadata": {},
   "outputs": [
    {
     "name": "stdout",
     "output_type": "stream",
     "text": [
      "Average quotes in 2018 is 10.399324166860872\n",
      "Average quotes in 2019 is 11.769763878158152\n"
     ]
    }
   ],
   "source": [
    "dfw = channel_join[channel_join['Channel']==\"Website\"]\n",
    "mean2018 = dfw[dfw[\"Year\"]==2018]['Sales Quotes'].mean()\n",
    "mean2019 = dfw[dfw[\"Year\"]==2019]['Sales Quotes'].mean()\n",
    "print(\"Average quotes in 2018 is\",mean2018)\n",
    "print(\"Average quotes in 2019 is\",mean2019)"
   ]
  },
  {
   "cell_type": "code",
   "execution_count": 651,
   "metadata": {},
   "outputs": [
    {
     "name": "stdout",
     "output_type": "stream",
     "text": [
      "Percentage increase of quotes from 2018 to 2019 is 13%.\n"
     ]
    }
   ],
   "source": [
    "percentage = (mean2019 - mean2018)/mean2018 * 100\n",
    "print(\"Percentage increase of quotes from 2018 to 2019 is %d%%.\"%percentage)"
   ]
  },
  {
   "cell_type": "markdown",
   "metadata": {},
   "source": [
    "# Section 1f : Grouping Data at weekly level"
   ]
  },
  {
   "cell_type": "code",
   "execution_count": 652,
   "metadata": {},
   "outputs": [
    {
     "data": {
      "text/html": [
       "<div>\n",
       "<style scoped>\n",
       "    .dataframe tbody tr th:only-of-type {\n",
       "        vertical-align: middle;\n",
       "    }\n",
       "\n",
       "    .dataframe tbody tr th {\n",
       "        vertical-align: top;\n",
       "    }\n",
       "\n",
       "    .dataframe thead th {\n",
       "        text-align: right;\n",
       "    }\n",
       "</style>\n",
       "<table border=\"1\" class=\"dataframe\">\n",
       "  <thead>\n",
       "    <tr style=\"text-align: right;\">\n",
       "      <th></th>\n",
       "      <th>Channel</th>\n",
       "      <th>Date</th>\n",
       "      <th>Sales</th>\n",
       "    </tr>\n",
       "  </thead>\n",
       "  <tbody>\n",
       "    <tr>\n",
       "      <td>578</td>\n",
       "      <td>Renewal Comms</td>\n",
       "      <td>2018-01-08</td>\n",
       "      <td>14.0</td>\n",
       "    </tr>\n",
       "    <tr>\n",
       "      <td>883</td>\n",
       "      <td>Website</td>\n",
       "      <td>2018-01-08</td>\n",
       "      <td>14625.0</td>\n",
       "    </tr>\n",
       "    <tr>\n",
       "      <td>220</td>\n",
       "      <td>Newspapers</td>\n",
       "      <td>2018-01-08</td>\n",
       "      <td>129.0</td>\n",
       "    </tr>\n",
       "    <tr>\n",
       "      <td>790</td>\n",
       "      <td>TV</td>\n",
       "      <td>2018-01-08</td>\n",
       "      <td>38.0</td>\n",
       "    </tr>\n",
       "    <tr>\n",
       "      <td>313</td>\n",
       "      <td>Other</td>\n",
       "      <td>2018-01-08</td>\n",
       "      <td>2.0</td>\n",
       "    </tr>\n",
       "    <tr>\n",
       "      <td>...</td>\n",
       "      <td>...</td>\n",
       "      <td>...</td>\n",
       "      <td>...</td>\n",
       "    </tr>\n",
       "    <tr>\n",
       "      <td>577</td>\n",
       "      <td>PPC Generic</td>\n",
       "      <td>2019-10-14</td>\n",
       "      <td>0.0</td>\n",
       "    </tr>\n",
       "    <tr>\n",
       "      <td>666</td>\n",
       "      <td>Renewal Comms</td>\n",
       "      <td>2019-10-14</td>\n",
       "      <td>0.0</td>\n",
       "    </tr>\n",
       "    <tr>\n",
       "      <td>714</td>\n",
       "      <td>SEO</td>\n",
       "      <td>2019-10-14</td>\n",
       "      <td>0.0</td>\n",
       "    </tr>\n",
       "    <tr>\n",
       "      <td>85</td>\n",
       "      <td>DM</td>\n",
       "      <td>2019-10-14</td>\n",
       "      <td>0.0</td>\n",
       "    </tr>\n",
       "    <tr>\n",
       "      <td>975</td>\n",
       "      <td>Website</td>\n",
       "      <td>2019-10-14</td>\n",
       "      <td>0.0</td>\n",
       "    </tr>\n",
       "  </tbody>\n",
       "</table>\n",
       "<p>976 rows × 3 columns</p>\n",
       "</div>"
      ],
      "text/plain": [
       "           Channel       Date    Sales\n",
       "578  Renewal Comms 2018-01-08     14.0\n",
       "883        Website 2018-01-08  14625.0\n",
       "220     Newspapers 2018-01-08    129.0\n",
       "790             TV 2018-01-08     38.0\n",
       "313          Other 2018-01-08      2.0\n",
       "..             ...        ...      ...\n",
       "577    PPC Generic 2019-10-14      0.0\n",
       "666  Renewal Comms 2019-10-14      0.0\n",
       "714            SEO 2019-10-14      0.0\n",
       "85              DM 2019-10-14      0.0\n",
       "975        Website 2019-10-14      0.0\n",
       "\n",
       "[976 rows x 3 columns]"
      ]
     },
     "execution_count": 652,
     "metadata": {},
     "output_type": "execute_result"
    }
   ],
   "source": [
    "dfDM = channel_join.copy()\n",
    "dfDM = dfDM.groupby(['Channel', pd.Grouper(key='Date', freq='W-MON')])['Sales'].sum().reset_index().sort_values('Date')\n",
    "dfDM['Sales'].sum()\n",
    "dfDM"
   ]
  },
  {
   "cell_type": "code",
   "execution_count": 653,
   "metadata": {},
   "outputs": [
    {
     "data": {
      "image/png": "[encoded data removed]",
      "text/plain": [
       "<Figure size 864x288 with 1 Axes>"
      ]
     },
     "metadata": {
      "needs_background": "light"
     },
     "output_type": "display_data"
    },
    {
     "data": {
      "image/png": "[encoded data removed]",
      "text/plain": [
       "<Figure size 864x288 with 1 Axes>"
      ]
     },
     "metadata": {
      "needs_background": "light"
     },
     "output_type": "display_data"
    }
   ],
   "source": [
    "for t in ['linear','symlog']:\n",
    "    tempdf = dfDM[dfDM['Channel'] == 'DM']\n",
    "    x = tempdf.iloc[:,1]\n",
    "    if t == 'linear':\n",
    "        x = tempdf.iloc[:,1].apply(mpl_dates.date2num).astype(float)\n",
    "    y = tempdf.iloc[:,2]\n",
    "    \n",
    "    #plt.plot(np.unique(x), np.poly1d(np.polyfit(x, y, 1))(np.unique(x)))\n",
    "    \n",
    "    plt.figure(figsize=(12,4))\n",
    "    plt.plot(x,y,alpha=0.8,color='g')\n",
    "    plt.gcf().autofmt_xdate()\n",
    "    plt.xticks(rotation = 45)\n",
    "    plt.title(\"Weekly Sales (log)\")\n",
    "    plt.yscale(t)\n",
    "    plt.ylabel('Number of Sales')\n",
    "    if t == 'linear':\n",
    "        plt.title(\"Weekly Sales (linear)\")\n",
    "        z = np.polyfit(x, y, 1)\n",
    "        p = np.poly1d(z)\n",
    "        plt.plot(x,p(x),\"r--\")\n",
    "        plt.xticks([])\n",
    "    \n",
    "plt.legend(['DM'])\n",
    "plt.show()\n"
   ]
  },
  {
   "cell_type": "markdown",
   "metadata": {},
   "source": [
    "# Section 2"
   ]
  },
  {
   "cell_type": "markdown",
   "metadata": {},
   "source": [
    "## Understanding 'Model Data'"
   ]
  },
  {
   "cell_type": "code",
   "execution_count": 654,
   "metadata": {},
   "outputs": [
    {
     "name": "stdout",
     "output_type": "stream",
     "text": [
      "Date                           datetime64[ns]\n",
      "Conversions                           float64\n",
      "TV Brand Impacts                      float64\n",
      "TV Impacts                            float64\n",
      "Facebook Impressions                  float64\n",
      "Door Drop Volumes                     float64\n",
      "Insert Volumes                        float64\n",
      "Video On Demand Impressions           float64\n",
      "Display Impressions                   float64\n",
      "2020 Flag                               int64\n",
      "Bank Holiday flag                       int64\n",
      "Christmas Flag                          int64\n",
      "dtype: object\n"
     ]
    },
    {
     "data": {
      "text/html": [
       "<div>\n",
       "<style scoped>\n",
       "    .dataframe tbody tr th:only-of-type {\n",
       "        vertical-align: middle;\n",
       "    }\n",
       "\n",
       "    .dataframe tbody tr th {\n",
       "        vertical-align: top;\n",
       "    }\n",
       "\n",
       "    .dataframe thead th {\n",
       "        text-align: right;\n",
       "    }\n",
       "</style>\n",
       "<table border=\"1\" class=\"dataframe\">\n",
       "  <thead>\n",
       "    <tr style=\"text-align: right;\">\n",
       "      <th></th>\n",
       "      <th>Date</th>\n",
       "      <th>Conversions</th>\n",
       "      <th>TV Brand Impacts</th>\n",
       "      <th>TV Impacts</th>\n",
       "      <th>Facebook Impressions</th>\n",
       "      <th>Door Drop Volumes</th>\n",
       "      <th>Insert Volumes</th>\n",
       "      <th>Video On Demand Impressions</th>\n",
       "      <th>Display Impressions</th>\n",
       "      <th>2020 Flag</th>\n",
       "      <th>Bank Holiday flag</th>\n",
       "      <th>Christmas Flag</th>\n",
       "    </tr>\n",
       "  </thead>\n",
       "  <tbody>\n",
       "    <tr>\n",
       "      <td>0</td>\n",
       "      <td>2018-02-05</td>\n",
       "      <td>73.98</td>\n",
       "      <td>0.0</td>\n",
       "      <td>0.0</td>\n",
       "      <td>0.0</td>\n",
       "      <td>0.0</td>\n",
       "      <td>0.0</td>\n",
       "      <td>0.0</td>\n",
       "      <td>0.0</td>\n",
       "      <td>0</td>\n",
       "      <td>0</td>\n",
       "      <td>0</td>\n",
       "    </tr>\n",
       "    <tr>\n",
       "      <td>1</td>\n",
       "      <td>2018-02-12</td>\n",
       "      <td>67.13</td>\n",
       "      <td>0.0</td>\n",
       "      <td>0.0</td>\n",
       "      <td>0.0</td>\n",
       "      <td>0.0</td>\n",
       "      <td>0.0</td>\n",
       "      <td>0.0</td>\n",
       "      <td>0.0</td>\n",
       "      <td>0</td>\n",
       "      <td>0</td>\n",
       "      <td>0</td>\n",
       "    </tr>\n",
       "    <tr>\n",
       "      <td>2</td>\n",
       "      <td>2018-02-19</td>\n",
       "      <td>79.46</td>\n",
       "      <td>0.0</td>\n",
       "      <td>0.0</td>\n",
       "      <td>0.0</td>\n",
       "      <td>0.0</td>\n",
       "      <td>0.0</td>\n",
       "      <td>0.0</td>\n",
       "      <td>0.0</td>\n",
       "      <td>0</td>\n",
       "      <td>0</td>\n",
       "      <td>0</td>\n",
       "    </tr>\n",
       "    <tr>\n",
       "      <td>3</td>\n",
       "      <td>2018-02-26</td>\n",
       "      <td>76.72</td>\n",
       "      <td>0.0</td>\n",
       "      <td>0.0</td>\n",
       "      <td>0.0</td>\n",
       "      <td>0.0</td>\n",
       "      <td>0.0</td>\n",
       "      <td>0.0</td>\n",
       "      <td>0.0</td>\n",
       "      <td>0</td>\n",
       "      <td>0</td>\n",
       "      <td>0</td>\n",
       "    </tr>\n",
       "    <tr>\n",
       "      <td>4</td>\n",
       "      <td>2018-03-05</td>\n",
       "      <td>45.21</td>\n",
       "      <td>0.0</td>\n",
       "      <td>0.0</td>\n",
       "      <td>0.0</td>\n",
       "      <td>0.0</td>\n",
       "      <td>0.0</td>\n",
       "      <td>0.0</td>\n",
       "      <td>0.0</td>\n",
       "      <td>0</td>\n",
       "      <td>0</td>\n",
       "      <td>0</td>\n",
       "    </tr>\n",
       "  </tbody>\n",
       "</table>\n",
       "</div>"
      ],
      "text/plain": [
       "        Date  Conversions  TV Brand Impacts  TV Impacts  Facebook Impressions  \\\n",
       "0 2018-02-05        73.98               0.0         0.0                   0.0   \n",
       "1 2018-02-12        67.13               0.0         0.0                   0.0   \n",
       "2 2018-02-19        79.46               0.0         0.0                   0.0   \n",
       "3 2018-02-26        76.72               0.0         0.0                   0.0   \n",
       "4 2018-03-05        45.21               0.0         0.0                   0.0   \n",
       "\n",
       "   Door Drop Volumes  Insert Volumes  Video On Demand Impressions  \\\n",
       "0                0.0             0.0                          0.0   \n",
       "1                0.0             0.0                          0.0   \n",
       "2                0.0             0.0                          0.0   \n",
       "3                0.0             0.0                          0.0   \n",
       "4                0.0             0.0                          0.0   \n",
       "\n",
       "   Display Impressions  2020 Flag  Bank Holiday flag  Christmas Flag  \n",
       "0                  0.0          0                  0               0  \n",
       "1                  0.0          0                  0               0  \n",
       "2                  0.0          0                  0               0  \n",
       "3                  0.0          0                  0               0  \n",
       "4                  0.0          0                  0               0  "
      ]
     },
     "execution_count": 654,
     "metadata": {},
     "output_type": "execute_result"
    }
   ],
   "source": [
    "print(data['Model Data'].dtypes)\n",
    "data['Model Data'].head()"
   ]
  },
  {
   "cell_type": "markdown",
   "metadata": {},
   "source": [
    "# Section 2a : Co-relation heatmap between channels"
   ]
  },
  {
   "cell_type": "code",
   "execution_count": 655,
   "metadata": {},
   "outputs": [
    {
     "data": {
      "image/png": "[encoded data removed]",
      "text/plain": [
       "<Figure size 720x720 with 2 Axes>"
      ]
     },
     "metadata": {
      "needs_background": "light"
     },
     "output_type": "display_data"
    }
   ],
   "source": [
    "corr = data['Model Data'].iloc[:,1:].corr()\n",
    "plt.figure(figsize=(10,10))\n",
    "ax = sns.heatmap(\n",
    "    corr, \n",
    "    vmin=-1, vmax=1, center=0,\n",
    "    cmap=sns.diverging_palette(0, 600, n=60),\n",
    "    square=False,\n",
    "    linewidth = 0.5,\n",
    "    annot = True\n",
    ")\n",
    "bottom, top = ax.get_ylim()\n",
    "ax.set_ylim(bottom + 0.5, top - 0.5)\n",
    "ax.set_xticklabels(\n",
    "    ax.get_xticklabels(),\n",
    "    rotation=45,\n",
    "    horizontalalignment='right'\n",
    ");"
   ]
  },
  {
   "cell_type": "markdown",
   "metadata": {},
   "source": [
    "# Section 2b: Building regression model to get channel contributions"
   ]
  },
  {
   "cell_type": "markdown",
   "metadata": {},
   "source": [
    "## Building model and printing MAE"
   ]
  },
  {
   "cell_type": "code",
   "execution_count": 656,
   "metadata": {},
   "outputs": [],
   "source": [
    "#print(data['Model Data'].isna().sum())\n",
    "X = data['Model Data'].iloc[:,2:].astype(float) \n",
    "y = data['Model Data'].iloc[:,1].astype(float)\n",
    "X_train, X_test, y_train, y_test = train_test_split(X,y,test_size=1/3,random_state=0)"
   ]
  },
  {
   "cell_type": "code",
   "execution_count": 657,
   "metadata": {},
   "outputs": [],
   "source": [
    "lr = LinearRegression()\n",
    "lr.fit(X_train,y_train)\n",
    "y_pred = regressor.predict(X_test)\n",
    "mae = mean_absolute_error(y_pred,y_test)\n"
   ]
  },
  {
   "cell_type": "markdown",
   "metadata": {},
   "source": [
    "### Using Statsmodel "
   ]
  },
  {
   "cell_type": "code",
   "execution_count": 658,
   "metadata": {},
   "outputs": [],
   "source": [
    "# X = sm.add_constant(X)\n",
    "# model = sm.OLS(y,X).fit()\n",
    "# print(model.summary())\n",
    "# print(X_test.shape, y_test.shape)\n",
    "# predictions = model.predict(X)\n",
    "# print(predictions.sum())\n",
    "# mean_absolute_error(predictions,y)"
   ]
  },
  {
   "cell_type": "markdown",
   "metadata": {},
   "source": [
    "## Getting Coefficient of linear equation and its intercept"
   ]
  },
  {
   "cell_type": "code",
   "execution_count": 659,
   "metadata": {},
   "outputs": [
    {
     "name": "stdout",
     "output_type": "stream",
     "text": [
      "Coefficient\n",
      "[ 1.02058860e-05  2.50829086e-05  1.93468387e-04  6.15399319e-06\n",
      "  3.47370182e-04 -3.75632690e-04  9.13989517e-04 -4.74049879e+01\n",
      "  2.69194651e+01  2.92105191e+01]\n",
      "\n",
      "Intercept\n",
      "81.33609607095181\n"
     ]
    }
   ],
   "source": [
    "coefficient = lr.coef_\n",
    "intercept = lr.intercept_\n",
    "print(\"Coefficient\",coefficient,end=\"\\n\\n\",sep=\"\\n\")\n",
    "print(\"Intercept\",intercept,sep=\"\\n\")"
   ]
  },
  {
   "cell_type": "markdown",
   "metadata": {},
   "source": [
    "## Data Obtained"
   ]
  },
  {
   "cell_type": "code",
   "execution_count": 660,
   "metadata": {},
   "outputs": [
    {
     "name": "stdout",
     "output_type": "stream",
     "text": [
      "Number of Conversion by : \n",
      "TV Brand Impacts : 1863\n",
      "TV Impacts : 20956\n",
      "Facebook Impressions : 1518\n",
      "Door Drop Volumes : 745\n",
      "Insert Volumes : 8022\n",
      "Video On Demand Impressions : -7638\n",
      "Display Impressions : 4076\n",
      "2020 Flag : -4909\n",
      "Bank Holiday flag : 1104\n",
      "Christmas Flag : 1027\n"
     ]
    }
   ],
   "source": [
    "sumData = data['Model Data'].iloc[:,1:].sum()\n",
    "y_predict = intercept\n",
    "conversion_list = []\n",
    "print(\"Number of Conversion by : \")\n",
    "for i in range(1,len(sumData)):\n",
    "    contri = sumData[i]*coefficient[i-1]*1.954\n",
    "    conversion_list.append(contri)\n",
    "    print(\"%s : %d\"%(sumData.index[i],contri))\n",
    "    y_predict += contri"
   ]
  },
  {
   "cell_type": "markdown",
   "metadata": {},
   "source": [
    "## Graph from Output"
   ]
  },
  {
   "cell_type": "code",
   "execution_count": 661,
   "metadata": {},
   "outputs": [
    {
     "data": {
      "image/png": "[encoded data removed]",
      "text/plain": [
       "<Figure size 864x432 with 1 Axes>"
      ]
     },
     "metadata": {
      "needs_background": "light"
     },
     "output_type": "display_data"
    }
   ],
   "source": [
    "# print(len(conversion_list),conversion_list)\n",
    "# print(len(sumData.index[1:]),sumData.index)\n",
    "plt.figure(figsize = (12,6))\n",
    "colorlist = ['r' if x < 0 else 'g' for x in conversion_list]\n",
    "plt.barh(sumData.index[1:],conversion_list,color= colorlist)\n",
    "plt.xticks(rotation = 65)\n",
    "plt.legend(['positive'])\n",
    "plt.ylabel(\"Channels\")\n",
    "plt.title('Conversions made due to Channels')\n",
    "plt.show()"
   ]
  },
  {
   "cell_type": "markdown",
   "metadata": {},
   "source": [
    "# Section 2c: Key Summary"
   ]
  },
  {
   "cell_type": "code",
   "execution_count": 662,
   "metadata": {},
   "outputs": [
    {
     "name": "stdout",
     "output_type": "stream",
     "text": [
      "Coefficient :\n",
      " [ 1.02058860e-05  2.50829086e-05  1.93468387e-04  6.15399319e-06\n",
      "  3.47370182e-04 -3.75632690e-04  9.13989517e-04 -4.74049879e+01\n",
      "  2.69194651e+01  2.92105191e+01]\n",
      "Intercept : 81.33609607095181\n",
      "Mean Absolute Error : 77.90611007198059\n",
      "Squared R :  0.855351938309668\n"
     ]
    }
   ],
   "source": [
    "print(\"Coefficient :\\n\",coefficient)\n",
    "print(\"Intercept :\",intercept)\n",
    "print(\"Mean Absolute Error :\",mae)\n",
    "print(\"Squared R : \",lr.score(X,y))"
   ]
  },
  {
   "cell_type": "markdown",
   "metadata": {},
   "source": [
    "## Analysis:\n",
    "The R-squared value is 0.85. It’s a high value which means the regression plane fits quite well with the real data points, and majority of the variables are around the gradient. \n",
    "The MAE is also relatively low (77). Overall, it is a good model. Looking at the graph, we can see that \"TV Impacts\" created highest conversions, followed by \"Insert Volumes\" and \"Display Impression\". \n",
    "We can see that \"Video On Demand Impression\" and \"2020 Flag\" might have produced a counteractive result. This might occur because of colinearity. We will further discuss it below. This is one of the reason why multivariate regression is preferred in business world."
   ]
  },
  {
   "cell_type": "markdown",
   "metadata": {},
   "source": [
    "# Section 2d: Caveats and Consideration"
   ]
  },
  {
   "cell_type": "markdown",
   "metadata": {},
   "source": [
    "While doing linear regression, we assume that every predictor variables are independent. But, we can see the negative result in the graph for \"Video On Demand Impression\" and \"2020 Flag\" despite the postive correlation shown in the earlier heatmap. It occured because of the existing high correlation between the channels (predictor variables) themselves. It means that the regression coefficients are not unique and independent. "
   ]
  },
  {
   "cell_type": "markdown",
   "metadata": {},
   "source": [
    "# Section 2e:"
   ]
  },
  {
   "cell_type": "markdown",
   "metadata": {},
   "source": [
    "We can analyse that most of the consumers watch TVs. Investing more in the TV ads seems reasonable. We can also see that social media are not very effective for this group of customers.Social medias shouldn't have much investment. The funding towards \"videos on demand\" and \"2020 flag\" needs to decrease significantly. \n",
    "In summary,the client should invest more in the channels that have high sales, keep investment for the ones with postive sales and either stop or significantly decrease funding towards the channels causing negative growth.\n",
    "### The methodologies such as \n",
    "#### Hypothesis Testing (T-testing),\n",
    "can be used before investing on channels. \n",
    "#### Monto Carlo simulation\n",
    "can be used to calculate the risk behind channels.\n",
    "### The sources to get data are:\n",
    "#### POS-Point of Sales. \n",
    "You need to track all your transactions.\n",
    "#### Ecommerce transactional Data.\n",
    "for online sales.\n",
    "#### In-store sensor data.\n",
    "get info from in-store movement of clients, dwell time, customer wifi usage time, in-store foot traffic etc.\n",
    "#### Social medias\n",
    "to understand customer expectations and satisfaction. It can be used to predict customer stickiness.\n",
    "### Things to Note\n",
    "#### customer analysis\n",
    "to understand how to increase customer stickiness\n",
    "#### predicting needs\n",
    "to understand what product is essential to which area\n",
    "#### price optimization\n",
    "to make displayed price slight less than competitors\n",
    "#### inventory analysis\n",
    "to understand what products are not sold properly, and eliminate them\n",
    "#### display analysis\n",
    "to understand what to display at shops to increase traffic"
   ]
  },
  {
   "cell_type": "code",
   "execution_count": null,
   "metadata": {},
   "outputs": [],
   "source": []
  },
  {
   "cell_type": "code",
   "execution_count": null,
   "metadata": {},
   "outputs": [],
   "source": []
  }
 ],
 "metadata": {
  "kernelspec": {
   "display_name": "Python 3",
   "language": "python",
   "name": "python3"
  },
  "language_info": {
   "codemirror_mode": {
    "name": "ipython",
    "version": 3
   },
   "file_extension": ".py",
   "mimetype": "text/x-python",
   "name": "python",
   "nbconvert_exporter": "python",
   "pygments_lexer": "ipython3",
   "version": "3.7.4"
  }
 },
 "nbformat": 4,
 "nbformat_minor": 2
}
