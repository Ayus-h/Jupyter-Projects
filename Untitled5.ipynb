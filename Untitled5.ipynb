{
 "cells": [
  {
   "cell_type": "code",
   "execution_count": 21,
   "metadata": {},
   "outputs": [
    {
     "name": "stdout",
     "output_type": "stream",
     "text": [
      "Enter the Roman Number : mcii\n",
      "1102\n"
     ]
    }
   ],
   "source": [
    "roman = input(\"Enter the Roman Number : \").upper()\n",
    "def list_sum(l):\n",
    "    s=0\n",
    "    for i in l:\n",
    "        s += i\n",
    "    return s\n",
    "\n",
    "roman_list = []    \n",
    "roman_dict = {'M':1000,'D':500,'C':100,'L':50,'X':10,'V':5,'I':1}\n",
    "\n",
    "for i in roman[::-1]:\n",
    "    roman_list.append(roman_dict[i])\n",
    "\n",
    "for i in range(len(roman_list)-1):\n",
    "    if (roman_list[i]<=roman_list[i+1]):\n",
    "        continue\n",
    "    else:\n",
    "        roman_list[i+1] = roman_list[i]-roman_list[i+1]\n",
    "        roman_list[i]=0\n",
    "        \n",
    "    \n",
    "#print(roman_list)\n",
    "print(list_sum(roman_list))"
   ]
  },
  {
   "cell_type": "code",
   "execution_count": null,
   "metadata": {},
   "outputs": [],
   "source": []
  }
 ],
 "metadata": {
  "kernelspec": {
   "display_name": "Python 3",
   "language": "python",
   "name": "python3"
  },
  "language_info": {
   "codemirror_mode": {
    "name": "ipython",
    "version": 3
   },
   "file_extension": ".py",
   "mimetype": "text/x-python",
   "name": "python",
   "nbconvert_exporter": "python",
   "pygments_lexer": "ipython3",
   "version": "3.7.4"
  }
 },
 "nbformat": 4,
 "nbformat_minor": 2
}
